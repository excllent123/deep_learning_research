{
 "cells": [
  {
   "cell_type": "code",
   "execution_count": 1,
   "metadata": {
    "collapsed": true
   },
   "outputs": [],
   "source": [
    "a = [11,22,33,44,55]\n",
    "b = [100]*len(a)\n",
    "memo = {}\n",
    "memo[1]= a,b"
   ]
  },
  {
   "cell_type": "code",
   "execution_count": 2,
   "metadata": {
    "collapsed": false
   },
   "outputs": [
    {
     "data": {
      "text/plain": [
       "{1: ([11, 22, 33, 44, 55], [100, 100, 100, 100, 100])}"
      ]
     },
     "execution_count": 2,
     "metadata": {},
     "output_type": "execute_result"
    }
   ],
   "source": [
    "memo"
   ]
  },
  {
   "cell_type": "code",
   "execution_count": 8,
   "metadata": {
    "collapsed": false
   },
   "outputs": [
    {
     "name": "stdout",
     "output_type": "stream",
     "text": [
      "[array([11, 22, 33, 44, 55]) [100, 100, 100, 100, 100] [1]]\n",
      "[1]\n",
      "100\n"
     ]
    }
   ],
   "source": [
    "import numpy as np\n",
    "\n",
    "c = [1]\n",
    "\n",
    "d = [a,b,c]\n",
    "\n",
    "e = np.array(d)\n",
    "print (e)\n",
    "print (e[2])\n",
    "print (e[1][2])"
   ]
  },
  {
   "cell_type": "markdown",
   "metadata": {},
   "source": [
    "# Object Tracking \n",
    "\n",
    "- Python Stuff and Real-Time Video Object Tracking\n",
    " - http://blog.dlib.net/2015/02/dlib-1813-released.html\n",
    "- http://www.menpo.org/examples/\n",
    "- http://www.votchallenge.net/vot2014/"
   ]
  },
  {
   "cell_type": "code",
   "execution_count": null,
   "metadata": {
    "collapsed": true
   },
   "outputs": [],
   "source": []
  }
 ],
 "metadata": {
  "kernelspec": {
   "display_name": "Python [Root]",
   "language": "python",
   "name": "Python [Root]"
  },
  "language_info": {
   "codemirror_mode": {
    "name": "ipython",
    "version": 2
   },
   "file_extension": ".py",
   "mimetype": "text/x-python",
   "name": "python",
   "nbconvert_exporter": "python",
   "pygments_lexer": "ipython2",
   "version": "2.7.12"
  }
 },
 "nbformat": 4,
 "nbformat_minor": 0
}
