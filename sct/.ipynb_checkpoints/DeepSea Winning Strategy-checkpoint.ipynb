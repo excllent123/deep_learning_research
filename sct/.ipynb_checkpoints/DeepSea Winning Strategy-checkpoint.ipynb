{
 "cells": [
  {
   "cell_type": "markdown",
   "metadata": {},
   "source": [
    "# [Study the DeepSea Winning Strategy](http://benanne.github.io/2015/03/17/plankton.html)\n",
    "\n",
    "\n",
    "I'm Kent Chiu, trying to be an awesome data scientist. If my articles do help you, please consider for sharing my blog on your twitter/facebook/Instagram. Also, please consider for donation if within your reach, it would be a greate support to me for continuing this journey. Thank you : ) \n",
    "\n",
    "\n",
    "### 0. Overviews\n",
    "- Introduction\n",
    "- Objectives\n",
    "- Pre-process & Data Augmentation\n",
    "- Network architecture (Cycling Pool)\n",
    "- Training\n",
    "- [Model Average](http://arxiv.org/abs/1503.02531)\n",
    "- Unsupervised and semi-supervised approaches\n",
    "- Miscellany\n",
    "- Reference Links\n",
    "\n"
   ]
  },
  {
   "cell_type": "markdown",
   "metadata": {},
   "source": [
    "### 1. Introduction \n",
    "\n",
    "- This article is to study the winning strategy from DeepSea team in Kaggle competition. You could click the Title of this post, it would directly lead you to the orinal post.\n"
   ]
  },
  {
   "cell_type": "markdown",
   "metadata": {},
   "source": [
    "### 2. Objectives\n",
    "- Learning some key strategies from the original post such as \n",
    " - data augmentation\n",
    " - cycling pool\n",
    " - unsupervised pre-training as an regularization \n",
    " - model average\n",
    " - "
   ]
  },
  {
   "cell_type": "markdown",
   "metadata": {},
   "source": [
    "### 3. Pre-process and Data augmentation"
   ]
  },
  {
   "cell_type": "markdown",
   "metadata": {},
   "source": [
    "### Reference Links\n",
    "- [Build Autoencoder in Keras](https://blog.keras.io/building-autoencoders-in-keras.html)\n",
    "- [Why does unsupervised pretraining help deep learning ?](http://www.jmlr.org/papers/volume11/erhan10a/erhan10a.pdf)\n",
    "- [DeepSee_Member_ Ira Korshunova_Blog](http://irakorshunova.github.io/2016/03/15/heart.html)"
   ]
  },
  {
   "cell_type": "code",
   "execution_count": null,
   "metadata": {
    "collapsed": true
   },
   "outputs": [],
   "source": []
  }
 ],
 "metadata": {
  "kernelspec": {
   "display_name": "Python [Root]",
   "language": "python",
   "name": "Python [Root]"
  },
  "language_info": {
   "codemirror_mode": {
    "name": "ipython",
    "version": 2
   },
   "file_extension": ".py",
   "mimetype": "text/x-python",
   "name": "python",
   "nbconvert_exporter": "python",
   "pygments_lexer": "ipython2",
   "version": "2.7.12"
  }
 },
 "nbformat": 4,
 "nbformat_minor": 0
}
