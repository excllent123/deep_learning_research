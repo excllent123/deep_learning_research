{
 "cells": [
  {
   "cell_type": "markdown",
   "metadata": {},
   "source": [
    "# Computer Vision Source Web\n",
    "\n",
    "- [learnopencv Web Blog](http://www.learnopencv.com/head-pose-estimation-using-opencv-and-dlib/)\n",
    "- [Dlib C++]\n",
    "- [OpenCV]\n",
    "- [Skimage]\n",
    "- [ImageIO]\n",
    "- [ffmpeg]\n",
    "- []\n"
   ]
  },
  {
   "cell_type": "markdown",
   "metadata": {},
   "source": [
    "# Software Logic \n",
    "\n",
    "- Data Structure and Base Algorithms\n",
    "- Math-base Algoritms \n",
    "- UML \n",
    "- Design pattern : 彌補語言本身的表達力不足，不同的語言需要的設計模式並不相同\n",
    " - Favor composition over inheritance (From Head First Design Pattern)\n",
    " - http://baike.baidu.com/view/4779987.htm\n",
    " - 看看peter norvig的文章，Design Patterns in Dynamic Languages，在一个支持first class function的语言里，大部分设计模式都不见了。\n",
    "java设计模式这么重，很大一部分原因是因为语言的表达能力太弱，设计模式本身不是描述业务逻辑的，把业务逻辑隐藏在一个个模式之下，感觉就像在跟这个语言斗争。\n",
    "- SQL E-R model\n",
    " - ER model is focus on storage static information witch is Entity. The relation is transfomed to be association between Tables.\n",
    " - [Refence Link](http://www.chou-it.com/info/infra/db/er.html)\n",
    "- Networks\n",
    "- SOA\n",
    "- DevOps\n",
    "- "
   ]
  },
  {
   "cell_type": "code",
   "execution_count": null,
   "metadata": {
    "collapsed": true
   },
   "outputs": [],
   "source": []
  }
 ],
 "metadata": {
  "kernelspec": {
   "display_name": "Python 2",
   "language": "python",
   "name": "python2"
  },
  "language_info": {
   "codemirror_mode": {
    "name": "ipython",
    "version": 2
   },
   "file_extension": ".py",
   "mimetype": "text/x-python",
   "name": "python",
   "nbconvert_exporter": "python",
   "pygments_lexer": "ipython2",
   "version": "2.7.12"
  }
 },
 "nbformat": 4,
 "nbformat_minor": 0
}
