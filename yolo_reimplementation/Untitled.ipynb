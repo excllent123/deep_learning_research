{
 "cells": [
  {
   "cell_type": "code",
   "execution_count": 18,
   "metadata": {
    "collapsed": false
   },
   "outputs": [],
   "source": [
    "from __future__ import division\n",
    "import numpy as np\n",
    "\n",
    "a = np.array([[1,2,3,4],[5,6,7,8]])\n",
    "b = np.array([[11,22,33,44],[55,66,77,88]])\n",
    "c = np.array([[311,322,333,344],[355,366,377,388]])\n",
    "d = np.array([[1311,1322,1333,1344],[1355,1366,1377,1388]])"
   ]
  },
  {
   "cell_type": "code",
   "execution_count": 19,
   "metadata": {
    "collapsed": false
   },
   "outputs": [
    {
     "data": {
      "text/plain": [
       "array([[1311, 1322],\n",
       "       [1333, 1344],\n",
       "       [1355, 1366],\n",
       "       [1377, 1388]])"
      ]
     },
     "execution_count": 19,
     "metadata": {},
     "output_type": "execute_result"
    }
   ],
   "source": [
    "\n",
    "a.reshape([4,2])\n",
    "b.reshape([4,2])\n",
    "c.reshape([4,2])\n",
    "d.reshape([4,2])"
   ]
  },
  {
   "cell_type": "code",
   "execution_count": 20,
   "metadata": {
    "collapsed": false
   },
   "outputs": [
    {
     "data": {
      "text/plain": [
       "array([[[   1,   11,  311, 1311],\n",
       "        [   2,   22,  322, 1322],\n",
       "        [   3,   33,  333, 1333],\n",
       "        [   4,   44,  344, 1344]],\n",
       "\n",
       "       [[   5,   55,  355, 1355],\n",
       "        [   6,   66,  366, 1366],\n",
       "        [   7,   77,  377, 1377],\n",
       "        [   8,   88,  388, 1388]]])"
      ]
     },
     "execution_count": 20,
     "metadata": {},
     "output_type": "execute_result"
    }
   ],
   "source": [
    "np.dstack([a,b,c,d])"
   ]
  },
  {
   "cell_type": "code",
   "execution_count": 27,
   "metadata": {
    "collapsed": false
   },
   "outputs": [],
   "source": [
    "    def encode(classid, cX, cY, boxW, boxH):\n",
    "        S, B, C, W, H = 3,2,20,448,448\n",
    "        assert int(classid) <= int(C-1)\n",
    "\n",
    "        # init skeleton\n",
    "        class_prob = np.zeros([S*S, C])\n",
    "        confidence = np.zeros([S*S, B])\n",
    "        offsetX    = np.zeros([S*S, B])\n",
    "        offsetY    = np.zeros([S*S, B])\n",
    "        norsqrtW   = np.zeros([S*S, B])\n",
    "        norsqrtH   = np.zeros([S*S, B])\n",
    "\n",
    "        # Some para\n",
    "        gridX, gridY = int(W/S), int(H/S)\n",
    "        tarGrid = int(cX/gridX)*(S)+int(cY/gridY)\n",
    "        print tarGrid\n",
    "\n",
    "        # Asssign True Value\n",
    "        class_prob[tarGrid, classid] = 1.0\n",
    "        confidence[tarGrid,:] = 1.0\n",
    "        offsetX   [tarGrid,:] = (cX/float(gridX)) - int(cX/gridX)\n",
    "        offsetY   [tarGrid,:] = (cY/float(gridY)) - int(cY/gridY)\n",
    "        norsqrtW  [tarGrid,:] = np.sqrt(boxW/W)\n",
    "        norsqrtH  [tarGrid,:] = np.sqrt(boxH/H)\n",
    "        \n",
    "        # Flatten  \n",
    "        class_prob = class_prob.flatten()\n",
    "        confidence = confidence.flatten()\n",
    "        #######\n",
    "        tmp = np.dstack([offsetX,offsetY,norsqrtW,norsqrtH])\n",
    "        print tmp\n",
    "        tmp=tmp.flatten()\n",
    "        print tmp\n",
    "\n",
    "        return np.concatenate([class_prob, confidence, tmp])"
   ]
  },
  {
   "cell_type": "code",
   "execution_count": 31,
   "metadata": {
    "collapsed": false
   },
   "outputs": [
    {
     "name": "stdout",
     "output_type": "stream",
     "text": [
      "4\n",
      "[[[ 0.          0.          0.          0.        ]\n",
      "  [ 0.          0.          0.          0.        ]]\n",
      "\n",
      " [[ 0.          0.          0.          0.        ]\n",
      "  [ 0.          0.          0.          0.        ]]\n",
      "\n",
      " [[ 0.          0.          0.          0.        ]\n",
      "  [ 0.          0.          0.          0.        ]]\n",
      "\n",
      " [[ 0.          0.          0.          0.        ]\n",
      "  [ 0.          0.          0.          0.        ]]\n",
      "\n",
      " [[ 0.51006711  0.51006711  0.5         0.16366342]\n",
      "  [ 0.51006711  0.51006711  0.5         0.16366342]]\n",
      "\n",
      " [[ 0.          0.          0.          0.        ]\n",
      "  [ 0.          0.          0.          0.        ]]\n",
      "\n",
      " [[ 0.          0.          0.          0.        ]\n",
      "  [ 0.          0.          0.          0.        ]]\n",
      "\n",
      " [[ 0.          0.          0.          0.        ]\n",
      "  [ 0.          0.          0.          0.        ]]\n",
      "\n",
      " [[ 0.          0.          0.          0.        ]\n",
      "  [ 0.          0.          0.          0.        ]]]\n",
      "[ 0.          0.          0.          0.          0.          0.          0.\n",
      "  0.          0.          0.          0.          0.          0.          0.\n",
      "  0.          0.          0.          0.          0.          0.          0.\n",
      "  0.          0.          0.          0.          0.          0.          0.\n",
      "  0.          0.          0.          0.          0.51006711  0.51006711\n",
      "  0.5         0.16366342  0.51006711  0.51006711  0.5         0.16366342\n",
      "  0.          0.          0.          0.          0.          0.          0.\n",
      "  0.          0.          0.          0.          0.          0.          0.\n",
      "  0.          0.          0.          0.          0.          0.          0.\n",
      "  0.          0.          0.          0.          0.          0.          0.\n",
      "  0.          0.          0.          0.        ]\n"
     ]
    }
   ],
   "source": [
    "for cX,cY in [(225,225)]:\n",
    "        encode(3, cX, cY, 112, 12)\n",
    "        "
   ]
  },
  {
   "cell_type": "code",
   "execution_count": null,
   "metadata": {
    "collapsed": true
   },
   "outputs": [],
   "source": []
  }
 ],
 "metadata": {
  "anaconda-cloud": {},
  "kernelspec": {
   "display_name": "Python [Root]",
   "language": "python",
   "name": "Python [Root]"
  },
  "language_info": {
   "codemirror_mode": {
    "name": "ipython",
    "version": 2
   },
   "file_extension": ".py",
   "mimetype": "text/x-python",
   "name": "python",
   "nbconvert_exporter": "python",
   "pygments_lexer": "ipython2",
   "version": "2.7.12"
  }
 },
 "nbformat": 4,
 "nbformat_minor": 0
}
