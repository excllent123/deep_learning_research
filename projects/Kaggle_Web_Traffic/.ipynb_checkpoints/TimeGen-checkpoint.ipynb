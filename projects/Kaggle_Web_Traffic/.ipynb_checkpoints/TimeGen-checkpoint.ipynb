{
 "cells": [
  {
   "cell_type": "code",
   "execution_count": null,
   "metadata": {
    "collapsed": false
   },
   "outputs": [],
   "source": [
    "import numpy as np \n",
    "import pandas as pd \n",
    "import tensorflow as tf "
   ]
  },
  {
   "cell_type": "markdown",
   "metadata": {},
   "source": [
    "# Subsample 1000"
   ]
  },
  {
   "cell_type": "code",
   "execution_count": 2,
   "metadata": {
    "collapsed": false
   },
   "outputs": [
    {
     "data": {
      "text/plain": [
       "(3000, 551)"
      ]
     },
     "execution_count": 2,
     "metadata": {},
     "output_type": "execute_result"
    }
   ],
   "source": [
    "train = pd.read_csv('train_1.csv')\n",
    "train = train.iloc[:3000]\n",
    "train = train.fillna(0)\n",
    "train.shape"
   ]
  },
  {
   "cell_type": "code",
   "execution_count": 74,
   "metadata": {
    "collapsed": false
   },
   "outputs": [],
   "source": [
    "train.head()\n",
    "train.to_json('test_sample_1.json')"
   ]
  },
  {
   "cell_type": "code",
   "execution_count": 4,
   "metadata": {
    "collapsed": false
   },
   "outputs": [],
   "source": [
    "%matplotlib inline"
   ]
  },
  {
   "cell_type": "code",
   "execution_count": 5,
   "metadata": {
    "collapsed": false
   },
   "outputs": [
    {
     "data": {
      "text/html": [
       "<div>\n",
       "<table border=\"1\" class=\"dataframe\">\n",
       "  <thead>\n",
       "    <tr style=\"text-align: right;\">\n",
       "      <th></th>\n",
       "      <th>Page</th>\n",
       "      <th>2015-07-01</th>\n",
       "      <th>2015-07-02</th>\n",
       "      <th>2015-07-03</th>\n",
       "      <th>2015-07-04</th>\n",
       "      <th>2015-07-05</th>\n",
       "      <th>2015-07-06</th>\n",
       "      <th>2015-07-07</th>\n",
       "      <th>2015-07-08</th>\n",
       "      <th>2015-07-09</th>\n",
       "      <th>...</th>\n",
       "      <th>2016-12-22</th>\n",
       "      <th>2016-12-23</th>\n",
       "      <th>2016-12-24</th>\n",
       "      <th>2016-12-25</th>\n",
       "      <th>2016-12-26</th>\n",
       "      <th>2016-12-27</th>\n",
       "      <th>2016-12-28</th>\n",
       "      <th>2016-12-29</th>\n",
       "      <th>2016-12-30</th>\n",
       "      <th>2016-12-31</th>\n",
       "    </tr>\n",
       "  </thead>\n",
       "  <tbody>\n",
       "    <tr>\n",
       "      <th>0</th>\n",
       "      <td>2NE1_zh.wikipedia.org_all-access_spider</td>\n",
       "      <td>18.0</td>\n",
       "      <td>11.0</td>\n",
       "      <td>5.0</td>\n",
       "      <td>13.0</td>\n",
       "      <td>14.0</td>\n",
       "      <td>9.0</td>\n",
       "      <td>9.0</td>\n",
       "      <td>22.0</td>\n",
       "      <td>26.0</td>\n",
       "      <td>...</td>\n",
       "      <td>32.0</td>\n",
       "      <td>63.0</td>\n",
       "      <td>15.0</td>\n",
       "      <td>26.0</td>\n",
       "      <td>14.0</td>\n",
       "      <td>20.0</td>\n",
       "      <td>22.0</td>\n",
       "      <td>19.0</td>\n",
       "      <td>18.0</td>\n",
       "      <td>20.0</td>\n",
       "    </tr>\n",
       "    <tr>\n",
       "      <th>1</th>\n",
       "      <td>2PM_zh.wikipedia.org_all-access_spider</td>\n",
       "      <td>11.0</td>\n",
       "      <td>14.0</td>\n",
       "      <td>15.0</td>\n",
       "      <td>18.0</td>\n",
       "      <td>11.0</td>\n",
       "      <td>13.0</td>\n",
       "      <td>22.0</td>\n",
       "      <td>11.0</td>\n",
       "      <td>10.0</td>\n",
       "      <td>...</td>\n",
       "      <td>17.0</td>\n",
       "      <td>42.0</td>\n",
       "      <td>28.0</td>\n",
       "      <td>15.0</td>\n",
       "      <td>9.0</td>\n",
       "      <td>30.0</td>\n",
       "      <td>52.0</td>\n",
       "      <td>45.0</td>\n",
       "      <td>26.0</td>\n",
       "      <td>20.0</td>\n",
       "    </tr>\n",
       "    <tr>\n",
       "      <th>2</th>\n",
       "      <td>3C_zh.wikipedia.org_all-access_spider</td>\n",
       "      <td>1.0</td>\n",
       "      <td>0.0</td>\n",
       "      <td>1.0</td>\n",
       "      <td>1.0</td>\n",
       "      <td>0.0</td>\n",
       "      <td>4.0</td>\n",
       "      <td>0.0</td>\n",
       "      <td>3.0</td>\n",
       "      <td>4.0</td>\n",
       "      <td>...</td>\n",
       "      <td>3.0</td>\n",
       "      <td>1.0</td>\n",
       "      <td>1.0</td>\n",
       "      <td>7.0</td>\n",
       "      <td>4.0</td>\n",
       "      <td>4.0</td>\n",
       "      <td>6.0</td>\n",
       "      <td>3.0</td>\n",
       "      <td>4.0</td>\n",
       "      <td>17.0</td>\n",
       "    </tr>\n",
       "    <tr>\n",
       "      <th>3</th>\n",
       "      <td>4minute_zh.wikipedia.org_all-access_spider</td>\n",
       "      <td>35.0</td>\n",
       "      <td>13.0</td>\n",
       "      <td>10.0</td>\n",
       "      <td>94.0</td>\n",
       "      <td>4.0</td>\n",
       "      <td>26.0</td>\n",
       "      <td>14.0</td>\n",
       "      <td>9.0</td>\n",
       "      <td>11.0</td>\n",
       "      <td>...</td>\n",
       "      <td>32.0</td>\n",
       "      <td>10.0</td>\n",
       "      <td>26.0</td>\n",
       "      <td>27.0</td>\n",
       "      <td>16.0</td>\n",
       "      <td>11.0</td>\n",
       "      <td>17.0</td>\n",
       "      <td>19.0</td>\n",
       "      <td>10.0</td>\n",
       "      <td>11.0</td>\n",
       "    </tr>\n",
       "    <tr>\n",
       "      <th>4</th>\n",
       "      <td>52_Hz_I_Love_You_zh.wikipedia.org_all-access_s...</td>\n",
       "      <td>0.0</td>\n",
       "      <td>0.0</td>\n",
       "      <td>0.0</td>\n",
       "      <td>0.0</td>\n",
       "      <td>0.0</td>\n",
       "      <td>0.0</td>\n",
       "      <td>0.0</td>\n",
       "      <td>0.0</td>\n",
       "      <td>0.0</td>\n",
       "      <td>...</td>\n",
       "      <td>48.0</td>\n",
       "      <td>9.0</td>\n",
       "      <td>25.0</td>\n",
       "      <td>13.0</td>\n",
       "      <td>3.0</td>\n",
       "      <td>11.0</td>\n",
       "      <td>27.0</td>\n",
       "      <td>13.0</td>\n",
       "      <td>36.0</td>\n",
       "      <td>10.0</td>\n",
       "    </tr>\n",
       "  </tbody>\n",
       "</table>\n",
       "<p>5 rows × 551 columns</p>\n",
       "</div>"
      ],
      "text/plain": [
       "                                                Page  2015-07-01  2015-07-02  \\\n",
       "0            2NE1_zh.wikipedia.org_all-access_spider        18.0        11.0   \n",
       "1             2PM_zh.wikipedia.org_all-access_spider        11.0        14.0   \n",
       "2              3C_zh.wikipedia.org_all-access_spider         1.0         0.0   \n",
       "3         4minute_zh.wikipedia.org_all-access_spider        35.0        13.0   \n",
       "4  52_Hz_I_Love_You_zh.wikipedia.org_all-access_s...         0.0         0.0   \n",
       "\n",
       "   2015-07-03  2015-07-04  2015-07-05  2015-07-06  2015-07-07  2015-07-08  \\\n",
       "0         5.0        13.0        14.0         9.0         9.0        22.0   \n",
       "1        15.0        18.0        11.0        13.0        22.0        11.0   \n",
       "2         1.0         1.0         0.0         4.0         0.0         3.0   \n",
       "3        10.0        94.0         4.0        26.0        14.0         9.0   \n",
       "4         0.0         0.0         0.0         0.0         0.0         0.0   \n",
       "\n",
       "   2015-07-09     ...      2016-12-22  2016-12-23  2016-12-24  2016-12-25  \\\n",
       "0        26.0     ...            32.0        63.0        15.0        26.0   \n",
       "1        10.0     ...            17.0        42.0        28.0        15.0   \n",
       "2         4.0     ...             3.0         1.0         1.0         7.0   \n",
       "3        11.0     ...            32.0        10.0        26.0        27.0   \n",
       "4         0.0     ...            48.0         9.0        25.0        13.0   \n",
       "\n",
       "   2016-12-26  2016-12-27  2016-12-28  2016-12-29  2016-12-30  2016-12-31  \n",
       "0        14.0        20.0        22.0        19.0        18.0        20.0  \n",
       "1         9.0        30.0        52.0        45.0        26.0        20.0  \n",
       "2         4.0         4.0         6.0         3.0         4.0        17.0  \n",
       "3        16.0        11.0        17.0        19.0        10.0        11.0  \n",
       "4         3.0        11.0        27.0        13.0        36.0        10.0  \n",
       "\n",
       "[5 rows x 551 columns]"
      ]
     },
     "execution_count": 5,
     "metadata": {},
     "output_type": "execute_result"
    }
   ],
   "source": [
    "train.head()"
   ]
  },
  {
   "cell_type": "code",
   "execution_count": 6,
   "metadata": {
    "collapsed": false
   },
   "outputs": [
    {
     "data": {
      "text/plain": [
       "<matplotlib.axes._subplots.AxesSubplot at 0x1741a4515f8>"
      ]
     },
     "execution_count": 6,
     "metadata": {},
     "output_type": "execute_result"
    },
    {
     "data": {
      "image/png": "[encoded data removed]",
      "text/plain": [
       "<matplotlib.figure.Figure at 0x1743ed9c0f0>"
      ]
     },
     "metadata": {},
     "output_type": "display_data"
    }
   ],
   "source": [
    "train[ train.columns[:10] ].iloc[:100].plot()"
   ]
  },
  {
   "cell_type": "code",
   "execution_count": 9,
   "metadata": {
    "collapsed": false
   },
   "outputs": [
    {
     "data": {
      "image/png": "[encoded data removed]",
      "text/plain": [
       "<matplotlib.figure.Figure at 0x1741a9e0198>"
      ]
     },
     "metadata": {},
     "output_type": "display_data"
    }
   ],
   "source": [
    "batch_size = 100\n",
    "start_id = 10\n",
    "window = 100\n",
    "predict_window = 20\n",
    "end_id = start_id + window\n",
    "\n",
    "batch_x = train[train.columns[start_id: end_id]].loc[:batch_size]\n",
    "batch_y = train[train.columns[end_id: end_id+ predict_window]][:10].loc[:batch_size].transpose().plot()"
   ]
  },
  {
   "cell_type": "markdown",
   "metadata": {},
   "source": [
    "# Feature on Page Name [NLP] "
   ]
  },
  {
   "cell_type": "code",
   "execution_count": 10,
   "metadata": {
    "collapsed": false
   },
   "outputs": [
    {
     "name": "stderr",
     "output_type": "stream",
     "text": [
      "C:\\Users\\gogog\\Anaconda3\\lib\\site-packages\\ipykernel\\__main__.py:8: FutureWarning: currently extract(expand=None) means expand=False (return Index/Series/DataFrame) but in a future version of pandas this will be changed to expand=True (return DataFrame)\n"
     ]
    },
    {
     "data": {
      "text/html": [
       "<div>\n",
       "<table border=\"1\" class=\"dataframe\">\n",
       "  <thead>\n",
       "    <tr style=\"text-align: right;\">\n",
       "      <th></th>\n",
       "      <th>topic</th>\n",
       "      <th>lang</th>\n",
       "      <th>access</th>\n",
       "      <th>type</th>\n",
       "      <th>wiki</th>\n",
       "    </tr>\n",
       "  </thead>\n",
       "  <tbody>\n",
       "    <tr>\n",
       "      <th>0</th>\n",
       "      <td>[2NE1]</td>\n",
       "      <td>zh</td>\n",
       "      <td>all-access</td>\n",
       "      <td>spider</td>\n",
       "      <td>wikipedia</td>\n",
       "    </tr>\n",
       "    <tr>\n",
       "      <th>1</th>\n",
       "      <td>[2PM]</td>\n",
       "      <td>zh</td>\n",
       "      <td>all-access</td>\n",
       "      <td>spider</td>\n",
       "      <td>wikipedia</td>\n",
       "    </tr>\n",
       "    <tr>\n",
       "      <th>2</th>\n",
       "      <td>[3C]</td>\n",
       "      <td>zh</td>\n",
       "      <td>all-access</td>\n",
       "      <td>spider</td>\n",
       "      <td>wikipedia</td>\n",
       "    </tr>\n",
       "    <tr>\n",
       "      <th>3</th>\n",
       "      <td>[4minute]</td>\n",
       "      <td>zh</td>\n",
       "      <td>all-access</td>\n",
       "      <td>spider</td>\n",
       "      <td>wikipedia</td>\n",
       "    </tr>\n",
       "    <tr>\n",
       "      <th>4</th>\n",
       "      <td>[52, Hz, I, Love, You]</td>\n",
       "      <td>zh</td>\n",
       "      <td>all-access</td>\n",
       "      <td>spider</td>\n",
       "      <td>wikipedia</td>\n",
       "    </tr>\n",
       "  </tbody>\n",
       "</table>\n",
       "</div>"
      ],
      "text/plain": [
       "                    topic lang      access    type       wiki\n",
       "0                  [2NE1]   zh  all-access  spider  wikipedia\n",
       "1                   [2PM]   zh  all-access  spider  wikipedia\n",
       "2                    [3C]   zh  all-access  spider  wikipedia\n",
       "3               [4minute]   zh  all-access  spider  wikipedia\n",
       "4  [52, Hz, I, Love, You]   zh  all-access  spider  wikipedia"
      ]
     },
     "execution_count": 10,
     "metadata": {},
     "output_type": "execute_result"
    }
   ],
   "source": [
    "#batch_df.columns\n",
    "def replace__(x):\n",
    "    for i in \".'_:;()[!@#$%^&*-]\":\n",
    "        x=x.replace(i,' ')\n",
    "    return x.split()\n",
    "\n",
    "#train['Page']\n",
    "page_details = train.Page.str.extract(r'(?P<topic>.*)\\_(?P<lang>.*).org\\_(?P<access>.*)\\_(?P<type>.*)')\n",
    "page_details['wiki']=page_details['lang'].apply(lambda x:x.split('.')[-1])\n",
    "page_details['lang']=page_details['lang'].apply(lambda x:x.split('.')[0])\n",
    "page_details['topic'] = page_details['topic'].apply(lambda x:replace__(x))\n",
    "page_details.head()"
   ]
  },
  {
   "cell_type": "code",
   "execution_count": 11,
   "metadata": {
    "collapsed": true
   },
   "outputs": [],
   "source": [
    "def build_id(col, mode):\n",
    "    '''\n",
    "     Args \n",
    "       - mode :\n",
    "         1 : for general feature \n",
    "         2 : for sequential feature like language in each cell \n",
    "       - col : pandas series\n",
    "    '''\n",
    "    if mode == 1:\n",
    "        key = list(set(col.drop_duplicates()))\n",
    "    elif mode == 2:\n",
    "        key = list(set([val for sublist in list(col) for val in sublist]))\n",
    "    value = [i for i in range(1,len(key)+1)]\n",
    "    memo =  { k:v for k, v in list(zip(key, value))}\n",
    "    if mode ==1:\n",
    "        col = col.apply(lambda x: memo[x])\n",
    "    elif mode ==2:\n",
    "        col = col.apply(lambda x: [memo[i] for i in x] )\n",
    "    return np.array(col), memo"
   ]
  },
  {
   "cell_type": "code",
   "execution_count": 12,
   "metadata": {
    "collapsed": false
   },
   "outputs": [
    {
     "data": {
      "text/html": [
       "<div>\n",
       "<table border=\"1\" class=\"dataframe\">\n",
       "  <thead>\n",
       "    <tr style=\"text-align: right;\">\n",
       "      <th></th>\n",
       "      <th>topic</th>\n",
       "      <th>lang</th>\n",
       "      <th>access</th>\n",
       "      <th>type</th>\n",
       "      <th>wiki</th>\n",
       "    </tr>\n",
       "  </thead>\n",
       "  <tbody>\n",
       "    <tr>\n",
       "      <th>0</th>\n",
       "      <td>[2211]</td>\n",
       "      <td>1</td>\n",
       "      <td>1</td>\n",
       "      <td>1</td>\n",
       "      <td>1</td>\n",
       "    </tr>\n",
       "    <tr>\n",
       "      <th>1</th>\n",
       "      <td>[1587]</td>\n",
       "      <td>1</td>\n",
       "      <td>1</td>\n",
       "      <td>1</td>\n",
       "      <td>1</td>\n",
       "    </tr>\n",
       "    <tr>\n",
       "      <th>2</th>\n",
       "      <td>[291]</td>\n",
       "      <td>1</td>\n",
       "      <td>1</td>\n",
       "      <td>1</td>\n",
       "      <td>1</td>\n",
       "    </tr>\n",
       "    <tr>\n",
       "      <th>3</th>\n",
       "      <td>[443]</td>\n",
       "      <td>1</td>\n",
       "      <td>1</td>\n",
       "      <td>1</td>\n",
       "      <td>1</td>\n",
       "    </tr>\n",
       "    <tr>\n",
       "      <th>4</th>\n",
       "      <td>[236, 2167, 2336, 3075, 887]</td>\n",
       "      <td>1</td>\n",
       "      <td>1</td>\n",
       "      <td>1</td>\n",
       "      <td>1</td>\n",
       "    </tr>\n",
       "  </tbody>\n",
       "</table>\n",
       "</div>"
      ],
      "text/plain": [
       "                          topic  lang  access  type  wiki\n",
       "0                        [2211]     1       1     1     1\n",
       "1                        [1587]     1       1     1     1\n",
       "2                         [291]     1       1     1     1\n",
       "3                         [443]     1       1     1     1\n",
       "4  [236, 2167, 2336, 3075, 887]     1       1     1     1"
      ]
     },
     "execution_count": 12,
     "metadata": {},
     "output_type": "execute_result"
    }
   ],
   "source": [
    "page_details['wiki'], wiki_memo  = build_id(page_details['wiki'], 1) \n",
    "page_details['lang'], lang_memo  = build_id(page_details['lang'], 1)\n",
    "page_details['access'], acc_memo = build_id(page_details['access'], 1)\n",
    "page_details['type'],   typ_memo = build_id(page_details['type'], 1)\n",
    "# 2 D \n",
    "page_details['topic'], top_memo = build_id(page_details['topic'], 2)\n",
    "page_details.head()"
   ]
  },
  {
   "cell_type": "code",
   "execution_count": 13,
   "metadata": {
    "collapsed": false
   },
   "outputs": [
    {
     "data": {
      "text/html": [
       "<div>\n",
       "<table border=\"1\" class=\"dataframe\">\n",
       "  <thead>\n",
       "    <tr style=\"text-align: right;\">\n",
       "      <th></th>\n",
       "      <th>topic</th>\n",
       "      <th>lang</th>\n",
       "      <th>access</th>\n",
       "      <th>type</th>\n",
       "      <th>wiki</th>\n",
       "      <th>raw_leng</th>\n",
       "    </tr>\n",
       "  </thead>\n",
       "  <tbody>\n",
       "    <tr>\n",
       "      <th>0</th>\n",
       "      <td>[2211, 0, 0, 0, 0, 0, 0, 0, 0, 0, 0, 0, 0, 0, ...</td>\n",
       "      <td>1</td>\n",
       "      <td>1</td>\n",
       "      <td>1</td>\n",
       "      <td>1</td>\n",
       "      <td>1</td>\n",
       "    </tr>\n",
       "    <tr>\n",
       "      <th>1</th>\n",
       "      <td>[1587, 0, 0, 0, 0, 0, 0, 0, 0, 0, 0, 0, 0, 0, ...</td>\n",
       "      <td>1</td>\n",
       "      <td>1</td>\n",
       "      <td>1</td>\n",
       "      <td>1</td>\n",
       "      <td>1</td>\n",
       "    </tr>\n",
       "    <tr>\n",
       "      <th>2</th>\n",
       "      <td>[291, 0, 0, 0, 0, 0, 0, 0, 0, 0, 0, 0, 0, 0, 0...</td>\n",
       "      <td>1</td>\n",
       "      <td>1</td>\n",
       "      <td>1</td>\n",
       "      <td>1</td>\n",
       "      <td>1</td>\n",
       "    </tr>\n",
       "    <tr>\n",
       "      <th>3</th>\n",
       "      <td>[443, 0, 0, 0, 0, 0, 0, 0, 0, 0, 0, 0, 0, 0, 0...</td>\n",
       "      <td>1</td>\n",
       "      <td>1</td>\n",
       "      <td>1</td>\n",
       "      <td>1</td>\n",
       "      <td>1</td>\n",
       "    </tr>\n",
       "    <tr>\n",
       "      <th>4</th>\n",
       "      <td>[236, 2167, 2336, 3075, 887, 0, 0, 0, 0, 0, 0,...</td>\n",
       "      <td>1</td>\n",
       "      <td>1</td>\n",
       "      <td>1</td>\n",
       "      <td>1</td>\n",
       "      <td>5</td>\n",
       "    </tr>\n",
       "  </tbody>\n",
       "</table>\n",
       "</div>"
      ],
      "text/plain": [
       "                                               topic  lang  access  type  \\\n",
       "0  [2211, 0, 0, 0, 0, 0, 0, 0, 0, 0, 0, 0, 0, 0, ...     1       1     1   \n",
       "1  [1587, 0, 0, 0, 0, 0, 0, 0, 0, 0, 0, 0, 0, 0, ...     1       1     1   \n",
       "2  [291, 0, 0, 0, 0, 0, 0, 0, 0, 0, 0, 0, 0, 0, 0...     1       1     1   \n",
       "3  [443, 0, 0, 0, 0, 0, 0, 0, 0, 0, 0, 0, 0, 0, 0...     1       1     1   \n",
       "4  [236, 2167, 2336, 3075, 887, 0, 0, 0, 0, 0, 0,...     1       1     1   \n",
       "\n",
       "   wiki  raw_leng  \n",
       "0     1         1  \n",
       "1     1         1  \n",
       "2     1         1  \n",
       "3     1         1  \n",
       "4     1         5  "
      ]
     },
     "execution_count": 13,
     "metadata": {},
     "output_type": "execute_result"
    }
   ],
   "source": [
    "def pad_1d(array, max_len):\n",
    "    array = array[:max_len]\n",
    "    raw_length = len(array)\n",
    "    padded = array + [0]*(max_len - len(array))\n",
    "    return padded, raw_length\n",
    "page_details['topic'] = page_details['topic'].apply(lambda x: pad_1d(x, 35))\n",
    "page_details['raw_leng'] = page_details['topic'].apply(lambda x: x[1])\n",
    "page_details['topic'] = page_details['topic'].apply(lambda x:x[0])\n",
    "page_details.head()"
   ]
  },
  {
   "cell_type": "code",
   "execution_count": 14,
   "metadata": {
    "collapsed": false
   },
   "outputs": [
    {
     "data": {
      "text/plain": [
       "array([1, 1, 1, 1, 1], dtype=int64)"
      ]
     },
     "execution_count": 14,
     "metadata": {},
     "output_type": "execute_result"
    }
   ],
   "source": [
    "np.array(page_details.head()[page_details.columns[page_details.columns!='topic']])[1]"
   ]
  },
  {
   "cell_type": "markdown",
   "metadata": {},
   "source": [
    "# Feature Engineering on Datetime"
   ]
  },
  {
   "cell_type": "code",
   "execution_count": 105,
   "metadata": {
    "collapsed": false
   },
   "outputs": [
    {
     "name": "stdout",
     "output_type": "stream",
     "text": [
      "[(2, 4), (2, 35), (2, 5), (2, 20), (2, 3)]\n"
     ]
    },
    {
     "data": {
      "text/plain": [
       "[array([[  8.,   2.,   7.,   2.],\n",
       "        [  3.,   8.,  10.,  15.]]),\n",
       " array([[ 2264.,     0.,     0.,     0.,     0.,     0.,     0.,     0.,\n",
       "             0.,     0.,     0.,     0.,     0.,     0.,     0.,     0.,\n",
       "             0.,     0.,     0.,     0.,     0.,     0.,     0.,     0.,\n",
       "             0.,     0.,     0.,     0.,     0.,     0.,     0.,     0.,\n",
       "             0.,     0.,     0.],\n",
       "        [ 2418.,     0.,     0.,     0.,     0.,     0.,     0.,     0.,\n",
       "             0.,     0.,     0.,     0.,     0.,     0.,     0.,     0.,\n",
       "             0.,     0.,     0.,     0.,     0.,     0.,     0.,     0.,\n",
       "             0.,     0.,     0.,     0.,     0.,     0.,     0.,     0.,\n",
       "             0.,     0.,     0.]]),\n",
       " array([[ 1.,  1.,  1.,  1.,  1.],\n",
       "        [ 1.,  1.,  1.,  1.,  1.]]),\n",
       " array([[ 0,  7, 17,  4,  0,  0,  7, 18,  5,  0,  0,  7, 19,  6,  1,  0,  7,\n",
       "         20,  0,  0],\n",
       "        [ 0,  7, 17,  4,  0,  0,  7, 18,  5,  0,  0,  7, 19,  6,  1,  0,  7,\n",
       "         20,  0,  0]]),\n",
       " array([[  9.,   6.,   3.],\n",
       "        [  7.,   5.,  10.]])]"
      ]
     },
     "execution_count": 105,
     "metadata": {},
     "output_type": "execute_result"
    }
   ],
   "source": [
    "import datetime\n",
    "#list(batch_df.columns)\n",
    "\n",
    "def get_ts(row):\n",
    "    batch = np.array([])\n",
    "    for i in range(len(row)):\n",
    "        year, month, date = row[i].split('-')\n",
    "        weekday = datetime.datetime.strptime( row[i], '%Y-%m-%d').weekday()\n",
    "        isweekend = 1 if weekday > 5 else 0\n",
    "        year_memo={2015:0, 2016:1, 2017:2, 2018:3}\n",
    "        year = year_memo[int(year)]\n",
    "        temp_ = np.array([ int(x) for x in [year, month, date, weekday, isweekend]])\n",
    "        batch = np.append(batch, temp_ )\n",
    "    return batch.reshape(len(row), 5).astype(int)\n",
    "    \n",
    "def gen_data(his_window, gap, predict_window, df, name_df=None, batch_size=50, verbose=0):\n",
    "    '''\n",
    "     Args:\n",
    "     - his_window : max_length of sequence data \n",
    "     - gap : the gap between \n",
    "     - df : time-series-cols df \n",
    "     - name_df : the categorical feature, indepent from time-series, \n",
    "                 this df should aligned-row with df as the same sample.\n",
    "    '''\n",
    "    if name_df is not None :\n",
    "        assert len(df)==len(name_df)\n",
    "        \n",
    "    start_id = np.random.randint(low=0, high=551-his_window-gap-predict_window)\n",
    "    predict_id  = start_id + his_window + gap \n",
    "    select_sample_id = np.random.randint(low=0, high=(len(df)-1), size=batch_size)\n",
    "    his_cols = df.columns[start_id: start_id + his_window]\n",
    "    pre_cols = df.columns[predict_id: predict_id + predict_window]\n",
    "    \n",
    "    batch_t2d = np.array([])\n",
    "    batch_t1d = np.array([])\n",
    "    batch_x  = np.array([])\n",
    "    batch_y  = np.array([])\n",
    "    batch_ts = np.array([])\n",
    "    for selected in select_sample_id:\n",
    "        if name_df is not None:\n",
    "            batch_t2d = np.append(batch_t2d, name_df['topic'][selected])\n",
    "            batch_t1d = np.append(batch_t1d, \n",
    "                        np.array(name_df[name_df.columns[name_df.columns!='topic']])[selected])\n",
    "        batch_ts = np.append(batch_ts, get_ts(his_cols))\n",
    "        batch_x  = np.append(batch_x, np.array(df[his_cols])[selected])\n",
    "        batch_y  = np.append(batch_y, np.array(df[pre_cols])[selected])\n",
    "        \n",
    "    if name_df is not None:\n",
    "        batch_t2d = batch_t2d.reshape(batch_size, 35)\n",
    "        batch_t1d = batch_t1d.reshape(batch_size, len(name_df.columns[name_df.columns!='topic']))\n",
    "            \n",
    "    batch_x  = batch_x.reshape(batch_size, his_window)\n",
    "    batch_ts = batch_ts.reshape(batch_size, his_window*5).astype(int)\n",
    "    batch_y  = batch_y.reshape(batch_size, predict_window)\n",
    "    \n",
    "    if name_df is not None:\n",
    "        res = [batch_x, batch_t2d, batch_t1d, batch_ts, batch_y]\n",
    "    else:\n",
    "        res = [batch_x, batch_ts, batch_y]\n",
    "    if verbose:\n",
    "        print([i.shape for i in res])\n",
    "    return res\n",
    "\n",
    "\n",
    "# Testing\n",
    "gen_data(4,3,3, train, name_df=page_details, batch_size=2, verbose=1)\n",
    "#print(pad_1d([1,2,3],8))\n",
    "#get_ts(['2016-08-01', '2016-08-11'])"
   ]
  },
  {
   "cell_type": "markdown",
   "metadata": {},
   "source": [
    "# Build Model "
   ]
  },
  {
   "cell_type": "code",
   "execution_count": null,
   "metadata": {
    "collapsed": false
   },
   "outputs": [],
   "source": [
    "def lstm_layer(inputs, lengths, state_size, keep_prob=1.0, scope='lstm-layer', reuse=False, return_final_state=False):\n",
    "    \"\"\"\n",
    "    LSTM layer.\n",
    "\n",
    "    Args:\n",
    "        inputs: Tensor of shape [batch size, max sequence length, ...].\n",
    "        lengths: Tensor of shape [batch size].\n",
    "        state_size: LSTM state size.\n",
    "        keep_prob: 1 - p, where p is the dropout probability.\n",
    "\n",
    "    Returns:\n",
    "        Tensor of shape [batch size, max sequence length, state_size] containing the lstm\n",
    "        outputs at each timestep.\n",
    "\n",
    "    \"\"\"\n",
    "    with tf.variable_scope(scope, reuse=reuse):\n",
    "        cell_fw = tf.contrib.rnn.DropoutWrapper(\n",
    "            tf.contrib.rnn.LSTMCell(\n",
    "                state_size,\n",
    "                reuse=reuse\n",
    "            ),\n",
    "            output_keep_prob=keep_prob\n",
    "        )\n",
    "        outputs, output_state = tf.nn.dynamic_rnn(\n",
    "            inputs=inputs,\n",
    "            cell=cell_fw,\n",
    "            sequence_length=lengths,\n",
    "            dtype=tf.float32\n",
    "        )\n",
    "        if return_final_state:\n",
    "            return outputs, output_state\n",
    "        else:\n",
    "            return outputs\n",
    "\n",
    "\n",
    "def temporal_convolution_layer(inputs, output_units, \n",
    "    convolution_width, causal=False, dilation_rate=[1], bias=True,\n",
    "    activation=None, dropout=None, scope='causal-conv-layer', reuse=False):\n",
    "    \"\"\"\n",
    "    Convolution over the temporal axis of sequence data.\n",
    "\n",
    "    Args:\n",
    "        inputs: Tensor of shape [batch size, max sequence length, input_units].\n",
    "        output_units: Output channels for convolution.\n",
    "        convolution_width: Number of timesteps to use in convolution.\n",
    "\n",
    "    Returns:\n",
    "        Tensor of shape [batch size, max sequence length, output_units].\n",
    "\n",
    "    \"\"\"\n",
    "    with tf.variable_scope(scope, reuse=reuse):\n",
    "        if causal:\n",
    "            shift = (convolution_width / 2) + (int(dilation_rate[0] - 1) / 2)\n",
    "            pad = tf.zeros([tf.shape(inputs)[0], shift, inputs.shape.as_list()[2]])\n",
    "            inputs = tf.concat([pad, inputs], axis=1)\n",
    "\n",
    "        W = tf.get_variable(\n",
    "            name='weights',\n",
    "            initializer=tf.contrib.layers.variance_scaling_initializer(),\n",
    "            shape=[convolution_width, shape(inputs, 2), output_units]\n",
    "        )\n",
    "\n",
    "        z = tf.nn.convolution(inputs, W, padding='SAME', dilation_rate=dilation_rate)\n",
    "        if bias:\n",
    "            b = tf.get_variable(\n",
    "                name='biases',\n",
    "                initializer=tf.constant_initializer(),\n",
    "                shape=[output_units]\n",
    "            )\n",
    "            z = z + b\n",
    "        z = activation(z) if activation else z\n",
    "        z = tf.nn.dropout(z, dropout) if dropout is not None else z\n",
    "        z = z[:, :-shift, :] if causal else z\n",
    "        return z\n",
    "\n",
    "\n",
    "def time_distributed_dense_layer(inputs, output_units, bias=True, \n",
    "    activation=None, batch_norm=None,\n",
    "    dropout=None, scope='time-distributed-dense-layer', reuse=False):\n",
    "    \"\"\"\n",
    "    Applies a shared dense layer to each timestep of a tensor of shape [batch_size, max_seq_len, input_units]\n",
    "    to produce a tensor of shape [batch_size, max_seq_len, output_units].\n",
    "\n",
    "    Args:\n",
    "        inputs: Tensor of shape [batch size, max sequence length, ...].\n",
    "        output_units: Number of output units.\n",
    "        activation: activation function.\n",
    "        dropout: dropout keep prob.\n",
    "\n",
    "    Returns:\n",
    "        Tensor of shape [batch size, max sequence length, output_units].\n",
    "\n",
    "    \"\"\"\n",
    "    with tf.variable_scope(scope, reuse=reuse):\n",
    "        W = tf.get_variable(\n",
    "            name='weights',\n",
    "            initializer=tf.contrib.layers.variance_scaling_initializer(),\n",
    "            shape=[shape(inputs, -1), output_units]\n",
    "        )\n",
    "        z = tf.einsum('ijk,kl->ijl', inputs, W)\n",
    "        if bias:\n",
    "            b = tf.get_variable(\n",
    "                name='biases',\n",
    "                initializer=tf.constant_initializer(),\n",
    "                shape=[output_units]\n",
    "            )\n",
    "            z = z + b\n",
    "\n",
    "        if batch_norm is not None:\n",
    "            z = tf.layers.batch_normalization(z, training=batch_norm, reuse=reuse)\n",
    "\n",
    "        z = activation(z) if activation else z\n",
    "        z = tf.nn.dropout(z, dropout) if dropout is not None else z\n",
    "        return z\n",
    "\n",
    "\n",
    "def dense_layer(inputs, output_units, bias=True, \n",
    "    activation=None, batch_norm=None, dropout=None,\n",
    "    scope='dense-layer', reuse=False):\n",
    "    \"\"\"\n",
    "    Applies a dense layer to a 2D tensor of shape [batch_size, input_units]\n",
    "    to produce a tensor of shape [batch_size, output_units].\n",
    "\n",
    "    Args:\n",
    "        inputs: Tensor of shape [batch size, input_units].\n",
    "        output_units: Number of output units.\n",
    "        activation: activation function.\n",
    "        dropout: dropout keep prob.\n",
    "\n",
    "    Returns:\n",
    "        Tensor of shape [batch size, output_units].\n",
    "\n",
    "    \"\"\"\n",
    "    with tf.variable_scope(scope, reuse=reuse):\n",
    "        W = tf.get_variable(\n",
    "            name='weights',\n",
    "            initializer=tf.contrib.layers.variance_scaling_initializer(),\n",
    "            shape=[shape(inputs, -1), output_units]\n",
    "        )\n",
    "        z = tf.matmul(inputs, W)\n",
    "        if bias:\n",
    "            b = tf.get_variable(\n",
    "                name='biases',\n",
    "                initializer=tf.constant_initializer(),\n",
    "                shape=[output_units]\n",
    "            )\n",
    "            z = z + b\n",
    "\n",
    "        if batch_norm is not None:\n",
    "            z = tf.layers.batch_normalization(z, training=batch_norm, reuse=reuse)\n",
    "\n",
    "        z = activation(z) if activation else z\n",
    "        z = tf.nn.dropout(z, dropout) if dropout is not None else z\n",
    "        return z\n",
    "\n",
    "### unfix_sequence_loss\n",
    "def sequence_log_loss(y, y_hat, sequence_lengths, max_sequence_length, eps=1e-15):\n",
    "    y = tf.cast(y, tf.float32)\n",
    "    y_hat = tf.minimum(tf.maximum(y_hat, eps), 1.0 - eps)\n",
    "    log_losses = y*tf.log(y_hat) + (1.0 - y)*tf.log(1.0 - y_hat)\n",
    "    # because output is a sequence but input sequence is padded \n",
    "    sequence_mask = tf.cast(tf.sequence_mask(sequence_lengths, maxlen=max_sequence_length), tf.float32)\n",
    "    avg_log_loss = -tf.reduce_sum(log_losses*sequence_mask) / tf.cast(tf.reduce_sum(sequence_lengths), tf.float32)\n",
    "    return avg_log_loss\n",
    "\n",
    "\n",
    "def sequence_rmse(y, y_hat, sequence_lengths, max_sequence_length):\n",
    "    y = tf.cast(y, tf.float32)\n",
    "    squared_error = tf.square(y - y_hat)\n",
    "    # because output is a sequence but input sequence is padded \n",
    "    sequence_mask = tf.cast(\n",
    "        tf.sequence_mask(sequence_lengths, maxlen=max_sequence_length),\n",
    "                    tf.float32)\n",
    "\n",
    "    avg_squared_error = tf.reduce_sum(squared_error*sequence_mask) / tf.cast(\n",
    "        tf.reduce_sum(sequence_lengths), tf.float32)\n",
    "    return tf.sqrt(avg_squared_error)\n",
    "\n",
    "def log_loss(y, y_hat, eps=1e-15):\n",
    "    y = tf.cast(y, tf.float32)\n",
    "    y_hat = tf.minimum(tf.maximum(y_hat, eps), 1.0 - eps)\n",
    "    log_loss = -tf.reduce_mean(y*tf.log(y_hat) + (1.0 - y)*tf.log(1.0 - y_hat))\n",
    "    return log_loss\n",
    "\n",
    "\n",
    "def rank(tensor):\n",
    "    \"\"\"Get tensor rank as python list\"\"\"\n",
    "    return len(tensor.shape.as_list())\n",
    "\n",
    "\n",
    "def shape(tensor, dim=None):\n",
    "    \"\"\"Get tensor shape/dimension as list/int\"\"\"\n",
    "    if dim is None:\n",
    "        return tensor.shape.as_list()\n",
    "    else:\n",
    "        return tensor.shape.as_list()[dim]"
   ]
  },
  {
   "cell_type": "code",
   "execution_count": 114,
   "metadata": {
    "collapsed": false
   },
   "outputs": [],
   "source": []
  },
  {
   "cell_type": "code",
   "execution_count": 108,
   "metadata": {
    "collapsed": false
   },
   "outputs": [
    {
     "name": "stdout",
     "output_type": "stream",
     "text": [
      "1.3.0\n",
      "[(2, 4), (2, 35), (2, 5), (2, 20), (2, 3)]\n"
     ]
    },
    {
     "ename": "TypeError",
     "evalue": "minimize() missing 1 required positional argument: 'loss'",
     "output_type": "error",
     "traceback": [
      "\u001b[0;31m---------------------------------------------------------------------------\u001b[0m",
      "\u001b[0;31mTypeError\u001b[0m                                 Traceback (most recent call last)",
      "\u001b[0;32m<ipython-input-108-f3de20c448d6>\u001b[0m in \u001b[0;36m<module>\u001b[0;34m()\u001b[0m\n\u001b[1;32m     51\u001b[0m \u001b[0mout\u001b[0m \u001b[1;33m=\u001b[0m \u001b[0mbuild_model\u001b[0m\u001b[1;33m(\u001b[0m\u001b[0mpld_a\u001b[0m\u001b[1;33m,\u001b[0m \u001b[0mpld_b\u001b[0m\u001b[1;33m,\u001b[0m \u001b[0mpld_c\u001b[0m\u001b[1;33m)\u001b[0m\u001b[1;33m\u001b[0m\u001b[0m\n\u001b[1;32m     52\u001b[0m \u001b[0mloss_op\u001b[0m \u001b[1;33m=\u001b[0m \u001b[0msequence_rmse\u001b[0m\u001b[1;33m(\u001b[0m\u001b[0mpld_tru\u001b[0m\u001b[1;33m,\u001b[0m \u001b[0mout\u001b[0m\u001b[1;33m,\u001b[0m \u001b[0msequence_lengths\u001b[0m\u001b[1;33m=\u001b[0m\u001b[1;33m[\u001b[0m\u001b[1;36m3\u001b[0m\u001b[1;33m]\u001b[0m\u001b[1;33m,\u001b[0m \u001b[0mmax_sequence_length\u001b[0m\u001b[1;33m=\u001b[0m\u001b[1;36m3\u001b[0m\u001b[1;33m)\u001b[0m\u001b[1;33m\u001b[0m\u001b[0m\n\u001b[0;32m---> 53\u001b[0;31m \u001b[0mtrain_op\u001b[0m \u001b[1;33m=\u001b[0m \u001b[0mtf\u001b[0m\u001b[1;33m.\u001b[0m\u001b[0mtrain\u001b[0m\u001b[1;33m.\u001b[0m\u001b[0mAdamOptimizer\u001b[0m\u001b[1;33m.\u001b[0m\u001b[0mminimize\u001b[0m\u001b[1;33m(\u001b[0m\u001b[0mloss_op\u001b[0m\u001b[1;33m)\u001b[0m\u001b[1;33m\u001b[0m\u001b[0m\n\u001b[0m\u001b[1;32m     54\u001b[0m \u001b[1;32mwith\u001b[0m \u001b[0mtf\u001b[0m\u001b[1;33m.\u001b[0m\u001b[0mSession\u001b[0m\u001b[1;33m(\u001b[0m\u001b[1;33m)\u001b[0m \u001b[1;32mas\u001b[0m \u001b[0msess\u001b[0m\u001b[1;33m:\u001b[0m\u001b[1;33m\u001b[0m\u001b[0m\n\u001b[1;32m     55\u001b[0m     \u001b[0msess\u001b[0m\u001b[1;33m.\u001b[0m\u001b[0mrun\u001b[0m\u001b[1;33m(\u001b[0m\u001b[0mtf\u001b[0m\u001b[1;33m.\u001b[0m\u001b[0mglobal_variables_initializer\u001b[0m\u001b[1;33m(\u001b[0m\u001b[1;33m)\u001b[0m\u001b[1;33m)\u001b[0m\u001b[1;33m\u001b[0m\u001b[0m\n",
      "\u001b[0;31mTypeError\u001b[0m: minimize() missing 1 required positional argument: 'loss'"
     ]
    }
   ],
   "source": [
    "def embdding_ly(name, hidded_dims, input_id):\n",
    "    '''embdding 2D matrix, 1D input '''\n",
    "    assert hidded_dims > self.col_set_dim\n",
    "    emb = tf.get_variable(name, shape=(self.col_set_dim, hidded_dims))\n",
    "    return tf.nn.embedding_lookup(emb, input_id)\n",
    "\n",
    "def weight_variable(shape):\n",
    "    initial = tf.truncated_normal(shape, stddev = 0.1)\n",
    "    return tf.Variable(initial)\n",
    "\n",
    "def bias_variable(shape):\n",
    "    initial = tf.constant(0.0, shape = shape)\n",
    "    return tf.Variable(initial)\n",
    "\n",
    "def LSTM(x, weight, bias):\n",
    "    cell = tf.nn.rnn_cell.LSTMCell(n_hidden,state_is_tuple = True)\n",
    "    multi_layer_cell = tf.nn.rnn_cell.MultiRNNCell([cell] * 2)\n",
    "    output, state = tf.nn.dynamic_rnn(multi_layer_cell, x, dtype = tf.float32)\n",
    "    output_flattened = tf.reshape(output, [-1, n_hidden])\n",
    "    output_logits = tf.add(tf.matmul(output_flattened,weight),bias)\n",
    "    output_all = tf.nn.sigmoid(output_logits)\n",
    "    output_reshaped = tf.reshape(output_all,[-1,n_steps,n_classes])\n",
    "    output_last = tf.gather(tf.transpose(output_reshaped,[1,0,2]), n_steps - 1)  \n",
    "    #output = tf.transpose(output, [1, 0, 2])\n",
    "    #last = tf.gather(output, int(output.get_shape()[0]) - 1)\n",
    "    #output_last = tf.nn.sigmoid(tf.matmul(last, weight) + bias)\n",
    "    return output_last, output_all\n",
    "\n",
    "\n",
    "fr\n",
    "def build_model(a, b, c):\n",
    "    c = tf.concat([a,b,c], axis=1)\n",
    "    c = tf.expand_dims(c, axis=2)\n",
    "    #c = tf.expand_dims(c,2)\n",
    "    #c = tf.reshape(c, shape=(2,1,39))\n",
    "    c = tf.contrib.keras.layers.LSTM(100, input_shape=(4,1))(c)\n",
    "    c = tf.contrib.keras.layers.Dense(55)(c)\n",
    "    c = tf.nn.sigmoid(c)\n",
    "    c = tf.contrib.keras.layers.Dense(32)(c)\n",
    "    c = tf.nn.sigmoid(c)\n",
    "    c = tf.contrib.keras.layers.Dense(3)(c)\n",
    "    #c = lstm_layer(c, lengths=[2], state_size=24, reuse=True)\n",
    "    return c\n",
    "\n",
    "print (tf.__version__)\n",
    "a,b,c,d, tru_y =  gen_data(4,3,3, train, name_df=page_details, batch_size=2, verbose=1)\n",
    "pld_a = tf.placeholder(tf.float32, [None, 4])\n",
    "pld_b = tf.placeholder(tf.float32, [None, 35])\n",
    "pld_c = tf.placeholder(tf.float32, [None, 5])\n",
    "pld_d = tf.placeholder(tf.float32, [None, 20])\n",
    "pld_tru = tf.placeholder(tf.float32, [None,3])\n",
    "\n",
    "out = build_model(pld_a, pld_b, pld_c)\n",
    "loss_op = sequence_rmse(pld_tru, out, sequence_lengths=[3], max_sequence_length=3)\n",
    "train_op = tf.train.AdamOptimizer.minimize(loss_op)\n",
    "with tf.Session() as sess:\n",
    "    sess.run(tf.global_variables_initializer())\n",
    "    #c = sess.run(lstm_layer(pld_b, [2], 3),  feed_dict={ pld_a:a, pld_b:b })\n",
    "    #c = sess.run(out, feed_dict={ pld_a:a, pld_b:b, pld_c:c })\n",
    "    lo, _= sess.run(loss_op, train_op,\n",
    "                  feed_dict={pld_a:a, pld_b:b, pld_c:c, pld_d:d, pld_tru:tru_y})\n",
    "    print (lo)"
   ]
  },
  {
   "cell_type": "code",
   "execution_count": null,
   "metadata": {
    "collapsed": true
   },
   "outputs": [],
   "source": [
    "s = np.load('tpc_name.npy')"
   ]
  },
  {
   "cell_type": "code",
   "execution_count": null,
   "metadata": {
    "collapsed": true
   },
   "outputs": [],
   "source": []
  },
  {
   "cell_type": "code",
   "execution_count": 227,
   "metadata": {
    "collapsed": false
   },
   "outputs": [
    {
     "name": "stdout",
     "output_type": "stream",
     "text": [
      "4\n"
     ]
    },
    {
     "data": {
      "text/plain": [
       "array([[2015, 2015, 2015, 2015, 2015, 2015, 2015, 2015, 2015, 2015],\n",
       "       [   7,    7,    7,    7,    7,    7,    7,    7,    7,    7],\n",
       "       [  10,   11,   12,   13,   14,   15,   16,   17,   18,   19],\n",
       "       [   4,    5,    6,    0,    1,    2,    3,    4,    5,    6],\n",
       "       [   0,    0,    1,    0,    0,    0,    0,    0,    0,    1]])"
      ]
     },
     "execution_count": 227,
     "metadata": {},
     "output_type": "execute_result"
    }
   ],
   "source": [
    "print(datetime.datetime.strptime('2016-12-30','%Y-%m-%d').weekday())\n",
    "test_data = batch_df.columns[:10]\n",
    "get_tripel(test_data)"
   ]
  },
  {
   "cell_type": "code",
   "execution_count": 80,
   "metadata": {
    "collapsed": false
   },
   "outputs": [
    {
     "data": {
      "text/plain": [
       "array([[ 0.,  0.,  0.,  0.,  0.,  0.,  0.,  0.,  0.,  0.],\n",
       "       [ 0.,  0.,  0.,  0.,  0.,  0.,  0.,  0.,  0.,  0.],\n",
       "       [ 0.,  0.,  0.,  0.,  0.,  0.,  0.,  0.,  0.,  0.],\n",
       "       [ 0.,  0.,  0.,  0.,  0.,  0.,  0.,  0.,  0.,  0.],\n",
       "       [ 0.,  0.,  0.,  0.,  0.,  0.,  0.,  0.,  0.,  0.]])"
      ]
     },
     "execution_count": 80,
     "metadata": {},
     "output_type": "execute_result"
    }
   ],
   "source": [
    "s = np.zeros(shape=(5* 10))\n",
    "np.append(s, np.array([])).reshape(10,5).transpose()"
   ]
  },
  {
   "cell_type": "code",
   "execution_count": 69,
   "metadata": {
    "collapsed": false
   },
   "outputs": [
    {
     "data": {
      "text/plain": [
       "array([[ 0.,  0.,  0.,  0.,  0.,  0.,  0.,  0.,  0.,  0.],\n",
       "       [ 1.,  1.,  1.,  1.,  1.,  1.,  1.,  1.,  1.,  1.],\n",
       "       [ 0.,  1.,  0.,  0.,  0.,  0.,  0.,  0.,  0.,  0.],\n",
       "       [ 0.,  0.,  0.,  0.,  0.,  0.,  0.,  0.,  0.,  0.],\n",
       "       [ 0.,  0.,  0.,  0.,  0.,  0.,  0.,  0.,  0.,  0.]])"
      ]
     },
     "execution_count": 69,
     "metadata": {},
     "output_type": "execute_result"
    }
   ],
   "source": [
    "s"
   ]
  },
  {
   "cell_type": "code",
   "execution_count": null,
   "metadata": {
    "collapsed": true
   },
   "outputs": [],
   "source": []
  }
 ],
 "metadata": {
  "anaconda-cloud": {},
  "kernelspec": {
   "display_name": "Python [conda root]",
   "language": "python",
   "name": "conda-root-py"
  },
  "language_info": {
   "codemirror_mode": {
    "name": "ipython",
    "version": 3
   },
   "file_extension": ".py",
   "mimetype": "text/x-python",
   "name": "python",
   "nbconvert_exporter": "python",
   "pygments_lexer": "ipython3",
   "version": "3.5.2"
  }
 },
 "nbformat": 4,
 "nbformat_minor": 1
}
