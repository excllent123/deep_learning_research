{
 "cells": [
  {
   "cell_type": "code",
   "execution_count": 1,
   "metadata": {
    "collapsed": true
   },
   "outputs": [],
   "source": [
    "import numpy as np \n",
    "import pandas as pd \n",
    "import tensorflow as tf "
   ]
  },
  {
   "cell_type": "markdown",
   "metadata": {},
   "source": [
    "### Load Feature & Test\n",
    "- time-series.npy : by cols-window\n",
    "- tpc-name.npy : by rows\n",
    "- tpc-feature.npy : by rows\n",
    "- tpc-raw-length : by rows\n",
    "- df : by rows and cols "
   ]
  },
  {
   "cell_type": "code",
   "execution_count": 19,
   "metadata": {
    "collapsed": false
   },
   "outputs": [],
   "source": [
    "df = pd.read_csv('train_1.csv')\n",
    "df = df[ df.columns[ df.columns!='Page']].fillna(0)\n",
    "tpc_name = np.load('tpc_name.npy')\n",
    "tpc_feature = np.load('tpc_feature.npy', mmap_mode='r')\n",
    "raw_leng = np.load('tpc_raw_leng.npy', mmap_mode='r')"
   ]
  },
  {
   "cell_type": "markdown",
   "metadata": {},
   "source": [
    "### Check Data "
   ]
  },
  {
   "cell_type": "code",
   "execution_count": 16,
   "metadata": {
    "collapsed": false
   },
   "outputs": [
    {
     "name": "stdout",
     "output_type": "stream",
     "text": [
      "[40444, 0, 0, 0, 0, 0, 0, 0, 0, 0, 0, 0, 0, 0, 0, 0, 0, 0, 0, 0, 0, 0, 0, 0, 0, 0, 0, 0, 0, 0, 0, 0, 0, 0, 0] [1836, 0, 0, 0, 0, 0, 0, 0, 0, 0, 0, 0, 0, 0, 0, 0, 0, 0, 0, 0, 0, 0, 0, 0, 0, 0, 0, 0, 0, 0, 0, 0, 0, 0, 0] (145063,)\n",
      "   2015-07-01  2015-07-02  2015-07-03  2015-07-04  2015-07-05  2015-07-06  \\\n",
      "0        18.0        11.0         5.0        13.0        14.0         9.0   \n",
      "1        11.0        14.0        15.0        18.0        11.0        13.0   \n",
      "2         1.0         0.0         1.0         1.0         0.0         4.0   \n",
      "3        35.0        13.0        10.0        94.0         4.0        26.0   \n",
      "4         0.0         0.0         0.0         0.0         0.0         0.0   \n",
      "\n",
      "   2015-07-07  2015-07-08  2015-07-09  2015-07-10     ...      2016-12-22  \\\n",
      "0         9.0        22.0        26.0        24.0     ...            32.0   \n",
      "1        22.0        11.0        10.0         4.0     ...            17.0   \n",
      "2         0.0         3.0         4.0         4.0     ...             3.0   \n",
      "3        14.0         9.0        11.0        16.0     ...            32.0   \n",
      "4         0.0         0.0         0.0         0.0     ...            48.0   \n",
      "\n",
      "   2016-12-23  2016-12-24  2016-12-25  2016-12-26  2016-12-27  2016-12-28  \\\n",
      "0        63.0        15.0        26.0        14.0        20.0        22.0   \n",
      "1        42.0        28.0        15.0         9.0        30.0        52.0   \n",
      "2         1.0         1.0         7.0         4.0         4.0         6.0   \n",
      "3        10.0        26.0        27.0        16.0        11.0        17.0   \n",
      "4         9.0        25.0        13.0         3.0        11.0        27.0   \n",
      "\n",
      "   2016-12-29  2016-12-30  2016-12-31  \n",
      "0        19.0        18.0        20.0  \n",
      "1        45.0        26.0        20.0  \n",
      "2         3.0         4.0        17.0  \n",
      "3        19.0        10.0        11.0  \n",
      "4        13.0        36.0        10.0  \n",
      "\n",
      "[5 rows x 550 columns]\n"
     ]
    }
   ],
   "source": [
    "def test(name):\n",
    "    s = np.load(name)\n",
    "    print (s[1], s[2], s.shape)\n",
    "\n",
    "test('tpc_name.npy')\n",
    "print (df.head())"
   ]
  },
  {
   "cell_type": "code",
   "execution_count": 17,
   "metadata": {
    "collapsed": true
   },
   "outputs": [],
   "source": [
    "from data_generator import gen_data"
   ]
  },
  {
   "cell_type": "code",
   "execution_count": 20,
   "metadata": {
    "collapsed": false
   },
   "outputs": [
    {
     "name": "stdout",
     "output_type": "stream",
     "text": [
      "[(20,), (100,), (70,), (8,), (2,), (20,)]\n"
     ]
    }
   ],
   "source": [
    "hpara = {'his_window':10,\n",
    "         'gap':10,\n",
    "         'predict_window': 10,\n",
    "         'df': df,  \n",
    "         'tpc_name':tpc_name, \n",
    "         'tpc_feature':tpc_feature,\n",
    "         'raw_leng': raw_leng, \n",
    "         'batch_size':2, \n",
    "         'verbose':1}\n",
    "    \n",
    "X, dateTime, tpcName, tpcFeature, rawLeng, truY = gen_data(**hpara)"
   ]
  },
  {
   "cell_type": "markdown",
   "metadata": {},
   "source": [
    "### Model Architecture \n",
    "- nlp model \n",
    "- time-series-emb\n",
    "- LSTM & CNN\n",
    "- Dense \n",
    "- loss = sequence rmse"
   ]
  },
  {
   "cell_type": "code",
   "execution_count": 50,
   "metadata": {
    "collapsed": false
   },
   "outputs": [],
   "source": [
    "def embdding_ly(name, hidded_dims, input_id):\n",
    "    '''embdding 2D matrix, 1D input '''\n",
    "    assert hidded_dims > self.col_set_dim\n",
    "    emb = tf.get_variable(name, shape=(self.col_set_dim, hidded_dims))\n",
    "    return tf.nn.embedding_lookup(emb, input_id)\n",
    "\n",
    "def sequence_rmse(y, y_hat, sequence_lengths, max_sequence_length):\n",
    "    y = tf.cast(y, tf.float32)\n",
    "    squared_error = tf.square(y - y_hat)\n",
    "    # because output is a sequence but input sequence is padded \n",
    "    sequence_mask = tf.cast(\n",
    "        tf.sequence_mask(sequence_lengths, maxlen=max_sequence_length),\n",
    "                    tf.float32)\n",
    "\n",
    "    avg_squared_error = tf.reduce_sum(squared_error*sequence_mask) / tf.cast(\n",
    "        tf.reduce_sum(sequence_lengths), tf.float32)\n",
    "    return tf.sqrt(avg_squared_error)\n",
    "\n",
    "def log_seq_rmse(y, y_hat, sequence_lengths, max_sequence_length):\n",
    "    y = tf.cast(y, tf.float32)\n",
    "    squared_error = tf.square(y - y_hat)\n",
    "    # because output is a sequence but input sequence is padded \n",
    "    sequence_mask = tf.cast(\n",
    "        tf.sequence_mask(sequence_lengths, maxlen=max_sequence_length),\n",
    "                    tf.float32)\n",
    "\n",
    "    avg_squared_error = tf.reduce_sum(squared_error*sequence_mask) / tf.cast(\n",
    "        tf.reduce_sum(sequence_lengths), tf.float32)\n",
    "    return tf.log(tf.sqrt(avg_squared_error))\n",
    "\n",
    "\n",
    "def build_model(a, b, c):\n",
    "    c = tf.concat([a,b,c], axis=1)\n",
    "    c = tf.expand_dims(c, axis=2)\n",
    "    #c = tf.expand_dims(c,2)\n",
    "    #c = tf.reshape(c, shape=(2,1,39))\n",
    "    c = tf.contrib.keras.layers.LSTM(100, input_shape=(4,1))(c)\n",
    "    c = tf.contrib.keras.layers.Dense(55)(c)\n",
    "    c = tf.nn.sigmoid(c)\n",
    "    c = tf.contrib.keras.layers.Dense(32)(c)\n",
    "    c = tf.nn.sigmoid(c)\n",
    "    c = tf.contrib.keras.layers.Dense(hpara['predict_window'])(c)\n",
    "    #c = lstm_layer(c, lengths=[2], state_size=24, reuse=True)\n",
    "    return c"
   ]
  },
  {
   "cell_type": "code",
   "execution_count": 51,
   "metadata": {
    "collapsed": false
   },
   "outputs": [
    {
     "name": "stdout",
     "output_type": "stream",
     "text": [
      "[(20,), (100,), (70,), (8,), (2,), (20,)]\n",
      "7.33767\n"
     ]
    }
   ],
   "source": [
    "\n",
    "a,b,c,d,e, f =  gen_data(**hpara)\n",
    "\n",
    "PLD = tf.placeholder\n",
    "p_X          = PLD(tf.float32, [None, hpara['his_window']])\n",
    "p_dateTime   = PLD(tf.float32, [None, 5*hpara['his_window']])\n",
    "p_tpcName    = PLD(tf.float32, [None, 35])\n",
    "p_tpcFeature = PLD(tf.float32, [None, 4])\n",
    "p_rawLeng    = PLD(tf.float32, [None, 1])\n",
    "p_truY       = PLD(tf.float32, [None, hpara['his_window']])\n",
    "\n",
    "feed_dict = {\n",
    "    p_X          : a,\n",
    "    p_dateTime   : b,\n",
    "    p_tpcName    : c,\n",
    "    p_tpcFeature : d,\n",
    "    p_rawLeng    : e,\n",
    "    p_truY       : f,\n",
    "}\n",
    "\n",
    "out = build_model(p_X, p_dateTime, p_tpcFeature)\n",
    "loss_op = log_seq_rmse(p_truY, out, \n",
    "                        sequence_lengths=[hpara['predict_window']],\n",
    "                        max_sequence_length=hpara['predict_window'])\n",
    "train_op = tf.train.AdamOptimizer().minimize(loss_op)\n",
    "with tf.Session() as sess:\n",
    "    sess.run(tf.global_variables_initializer())\n",
    "    #c = sess.run(lstm_layer(pld_b, [2], 3),  feed_dict={ pld_a:a, pld_b:b })\n",
    "    #c = sess.run(out, feed_dict={ pld_a:a, pld_b:b, pld_c:c })\n",
    "    lo, _ = sess.run([loss_op, train_op], feed_dict=feed_dict)\n",
    "    print (lo)"
   ]
  },
  {
   "cell_type": "code",
   "execution_count": 46,
   "metadata": {
    "collapsed": true
   },
   "outputs": [],
   "source": [
    "x = [ i*i for i in range(10)]\n",
    "y = np.log(x)\n",
    "%matplotlib inline\n"
   ]
  },
  {
   "cell_type": "code",
   "execution_count": 47,
   "metadata": {
    "collapsed": false
   },
   "outputs": [
    {
     "data": {
      "text/plain": [
       "[<matplotlib.lines.Line2D at 0x21094894358>]"
      ]
     },
     "execution_count": 47,
     "metadata": {},
     "output_type": "execute_result"
    },
    {
     "data": {
      "image/png": "[encoded data removed]",
      "text/plain": [
       "<matplotlib.figure.Figure at 0x210935b20b8>"
      ]
     },
     "metadata": {},
     "output_type": "display_data"
    }
   ],
   "source": [
    "import matplotlib.pyplot as plt \n",
    "plt.plot(x,y)"
   ]
  },
  {
   "cell_type": "code",
   "execution_count": null,
   "metadata": {
    "collapsed": true
   },
   "outputs": [],
   "source": []
  }
 ],
 "metadata": {
  "anaconda-cloud": {},
  "kernelspec": {
   "display_name": "Python [conda root]",
   "language": "python",
   "name": "conda-root-py"
  },
  "language_info": {
   "codemirror_mode": {
    "name": "ipython",
    "version": 3
   },
   "file_extension": ".py",
   "mimetype": "text/x-python",
   "name": "python",
   "nbconvert_exporter": "python",
   "pygments_lexer": "ipython3",
   "version": "3.5.2"
  }
 },
 "nbformat": 4,
 "nbformat_minor": 1
}
